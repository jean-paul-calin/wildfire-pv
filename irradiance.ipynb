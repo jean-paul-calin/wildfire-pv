{
  "cells": [
    {
      "cell_type": "code",
      "execution_count": 2,
      "metadata": {
        "id": "d4JgdALruvva",
        "outputId": "62c024fa-d8c2-42cc-bf27-499c7afc6257",
        "colab": {
          "base_uri": "https://localhost:8080/"
        }
      },
      "outputs": [
        {
          "output_type": "stream",
          "name": "stdout",
          "text": [
            "Collecting pvlib\n",
            "  Downloading pvlib-0.10.2-py3-none-any.whl (29.5 MB)\n",
            "\u001b[2K     \u001b[90m━━━━━━━━━━━━━━━━━━━━━━━━━━━━━━━━━━━━━━━━\u001b[0m \u001b[32m29.5/29.5 MB\u001b[0m \u001b[31m43.3 MB/s\u001b[0m eta \u001b[36m0:00:00\u001b[0m\n",
            "\u001b[?25hRequirement already satisfied: numpy>=1.16.0 in /usr/local/lib/python3.10/dist-packages (from pvlib) (1.23.5)\n",
            "Requirement already satisfied: pandas>=0.25.0 in /usr/local/lib/python3.10/dist-packages (from pvlib) (1.5.3)\n",
            "Requirement already satisfied: pytz in /usr/local/lib/python3.10/dist-packages (from pvlib) (2023.3.post1)\n",
            "Requirement already satisfied: requests in /usr/local/lib/python3.10/dist-packages (from pvlib) (2.31.0)\n",
            "Requirement already satisfied: scipy>=1.4.0 in /usr/local/lib/python3.10/dist-packages (from pvlib) (1.11.3)\n",
            "Requirement already satisfied: h5py in /usr/local/lib/python3.10/dist-packages (from pvlib) (3.9.0)\n",
            "Requirement already satisfied: python-dateutil>=2.8.1 in /usr/local/lib/python3.10/dist-packages (from pandas>=0.25.0->pvlib) (2.8.2)\n",
            "Requirement already satisfied: charset-normalizer<4,>=2 in /usr/local/lib/python3.10/dist-packages (from requests->pvlib) (3.3.2)\n",
            "Requirement already satisfied: idna<4,>=2.5 in /usr/local/lib/python3.10/dist-packages (from requests->pvlib) (3.4)\n",
            "Requirement already satisfied: urllib3<3,>=1.21.1 in /usr/local/lib/python3.10/dist-packages (from requests->pvlib) (2.0.7)\n",
            "Requirement already satisfied: certifi>=2017.4.17 in /usr/local/lib/python3.10/dist-packages (from requests->pvlib) (2023.7.22)\n",
            "Requirement already satisfied: six>=1.5 in /usr/local/lib/python3.10/dist-packages (from python-dateutil>=2.8.1->pandas>=0.25.0->pvlib) (1.16.0)\n",
            "Installing collected packages: pvlib\n",
            "Successfully installed pvlib-0.10.2\n"
          ]
        }
      ],
      "source": [
        "!pip install pvlib\n",
        "import numpy as np\n",
        "import pandas as pd\n",
        "import pvlib\n",
        "\n",
        "def irradiance(latitude, longitude, start, end, timezone):\n",
        "    \"\"\"\n",
        "    INPUTS:\n",
        "    * latitude (float): PV installation latitude in degrees north of the Equator\n",
        "    * longitude (float): PV installation longitude in degrees east of the Prime Meridian\n",
        "    * start (string): start of analysis period (datetime format 'yyyy-mm-dd hh:mm:ss')\n",
        "    * end (string): end of analysis period (datetime format 'yyyy-mm-dd hh:mm:ss')\n",
        "\n",
        "    OUTPUT:\n",
        "    * pandas.DataFrame object containing hourly direct normal irradiance (DNI) theoretical values (W/m^2)\n",
        "    \"\"\"\n",
        "\n",
        "    # Create a date range for a specific day\n",
        "    date_range = pd.date_range(start=start, end=end, freq='H', tz=timezone)\n",
        "\n",
        "    # Calculate solar position for each hour\n",
        "    solar_position = pvlib.solarposition.get_solarposition(date_range, latitude, longitude)\n",
        "    solar_position['apparent_zenith'] = [z if z>0 else 0 for z in solar_position['elevation']] # set zenith=0 for elevation<=0\n",
        "\n",
        "    # Calculate irradiance\n",
        "    solar_constant = 1361  # Solar constant in W/m^2\n",
        "    solar_irradiance_max = solar_constant * np.sin(np.radians(solar_position['apparent_zenith']))\n",
        "\n",
        "    result_df = pd.DataFrame({\n",
        "        'Datetime': date_range,\n",
        "        'irradiance_(W/m^2)': solar_irradiance_max\n",
        "    }).set_index('Datetime')\n",
        "\n",
        "    return result_df"
      ]
    },
    {
      "cell_type": "code",
      "execution_count": 24,
      "metadata": {
        "id": "HR3JYF6_uvvc"
      },
      "outputs": [],
      "source": [
        "# Specify location\n",
        "# Site B (Koropi, Greece): http://maps.google.com/maps?z=18&q=37.90042617666848,23.872860814737326\n",
        "latitude = 37.90042617666848\n",
        "longitude = 23.872860814737326\n",
        "timezone = 'Europe/Athens'\n",
        "\n",
        "# Specify time range\n",
        "start = '2022-07-16 00:00:00'\n",
        "end = '2022-07-27 23:00:00'\n",
        "\n",
        "df = irradiance(latitude=latitude, longitude=longitude, start=start, end=end, timezone=timezone)\n",
        "pd.set_option('display.max_rows', len(df))"
      ]
    },
    {
      "cell_type": "code",
      "source": [
        "def Irradiance_file(latitude, longtitude,start, end, timezone, output_filename):\n",
        "  \"\"\"\n",
        "    OUTPUT:\n",
        "    excel file named output_filename\n",
        "    \"\"\"\n",
        "  df = irradiance(latitude=latitude, longitude=longitude, start=start, end=end, timezone=timezone)\n",
        "  pd.set_option('display.max_rows', len(df))\n",
        "  df.to_excel('{}.xlsx'.format(output_filename), sheet_name='Sheet1', index=False)"
      ],
      "metadata": {
        "id": "AsBA71Qowjq9"
      },
      "execution_count": 25,
      "outputs": []
    },
    {
      "cell_type": "code",
      "source": [
        "# Home 1: https://maps.app.goo.gl/eTjCDso9p5kbP3A18\n",
        "latitude_home1 = 38.016448\n",
        "longitude_home1 = 23.836690\n",
        "Irradiance_file(latitude_home1, longitude_home1,start, end, timezone, 'Home 1 Irradiance')"
      ],
      "metadata": {
        "id": "GiQKQKLvxMG1"
      },
      "execution_count": 26,
      "outputs": []
    },
    {
      "cell_type": "code",
      "source": [
        "# Ilio: https://maps.app.goo.gl/vxQ1ukTxPXSa99KM6\n",
        "latitude_ilio = 38.043907\n",
        "longitude_ilio = 23.702674\n",
        "Irradiance_file(latitude_ilio, longitude_ilio,start, end, timezone, 'Ilio Irradiance')"
      ],
      "metadata": {
        "id": "VqZz9OYAzzVx"
      },
      "execution_count": 27,
      "outputs": []
    }
  ],
  "metadata": {
    "kernelspec": {
      "display_name": "Python 3",
      "language": "python",
      "name": "python3"
    },
    "language_info": {
      "codemirror_mode": {
        "name": "ipython",
        "version": 3
      },
      "file_extension": ".py",
      "mimetype": "text/x-python",
      "name": "python",
      "nbconvert_exporter": "python",
      "pygments_lexer": "ipython3",
      "version": "3.7.10"
    },
    "colab": {
      "provenance": []
    }
  },
  "nbformat": 4,
  "nbformat_minor": 0
}